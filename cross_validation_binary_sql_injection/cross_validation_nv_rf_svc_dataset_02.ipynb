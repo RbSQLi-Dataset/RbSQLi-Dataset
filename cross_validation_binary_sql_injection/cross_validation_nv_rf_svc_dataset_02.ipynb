{
  "metadata": {
    "kernelspec": {
      "name": "python3",
      "display_name": "Python 3",
      "language": "python"
    },
    "language_info": {
      "name": "python",
      "version": "3.11.13",
      "mimetype": "text/x-python",
      "codemirror_mode": {
        "name": "ipython",
        "version": 3
      },
      "pygments_lexer": "ipython3",
      "nbconvert_exporter": "python",
      "file_extension": ".py"
    },
    "colab": {
      "provenance": [],
      "gpuType": "T4"
    },
    "accelerator": "GPU",
    "kaggle": {
      "accelerator": "gpu",
      "dataSources": [
        {
          "sourceId": 2598516,
          "sourceType": "datasetVersion",
          "datasetId": 1579031,
          "isSourceIdPinned": false
        },
        {
          "sourceId": 13160682,
          "sourceType": "datasetVersion",
          "datasetId": 8339062
        }
      ],
      "dockerImageVersionId": 31090,
      "isInternetEnabled": true,
      "language": "python",
      "sourceType": "notebook",
      "isGpuEnabled": true
    }
  },
  "nbformat_minor": 0,
  "nbformat": 4,
  "cells": [
    {
      "cell_type": "markdown",
      "source": [
        "# **Cross-Validation Training on Dataset 02 for Binary SQL Injection Detection**"
      ],
      "metadata": {
        "id": "kGktiQJSzP1s"
      }
    },
    {
      "cell_type": "markdown",
      "source": [
        "**We implements and compares three machine learning approaches ( Naive Bayes, SVM, Random Forest) for detecting SQL injection attacks in query strings. The implementation uses a balanced dataset with 18,000 training samples and 2,000 testing samples, processed using TF-IDF vectorization with n-gram features. Each model undergoes hyperparameter optimization via 5-fold cross-validation with GridSearchCV. Performance results demonstrate that Naive Bayes achieves the highest overall accuracy (69%) with balanced precision-recall trade-off (F1=0.76 for malicious queries), while SVM excels at detecting malicious queries with 97.5% recall but suffers from high false positives .**"
      ],
      "metadata": {
        "id": "Wszn_xig2mS1"
      }
    },
    {
      "cell_type": "markdown",
      "source": [
        "# **Install KaggleHub with Pandas Support**"
      ],
      "metadata": {
        "id": "8C9tjGEu0KQi"
      }
    },
    {
      "cell_type": "code",
      "source": [
        " !pip install kagglehub[pandas-datasets]"
      ],
      "metadata": {
        "colab": {
          "base_uri": "https://localhost:8080/"
        },
        "id": "C6rEuz8fDti3",
        "outputId": "4d53c1c8-563d-424e-f0b9-8c204178f970",
        "trusted": true,
        "execution": {
          "iopub.status.busy": "2025-09-24T21:17:50.457952Z",
          "iopub.execute_input": "2025-09-24T21:17:50.458219Z",
          "iopub.status.idle": "2025-09-24T21:17:54.420772Z",
          "shell.execute_reply.started": "2025-09-24T21:17:50.458197Z",
          "shell.execute_reply": "2025-09-24T21:17:54.419896Z"
        }
      },
      "outputs": [
        {
          "name": "stdout",
          "text": "Requirement already satisfied: kagglehub[pandas-datasets] in /usr/local/lib/python3.11/dist-packages (0.3.12)\nRequirement already satisfied: packaging in /usr/local/lib/python3.11/dist-packages (from kagglehub[pandas-datasets]) (25.0)\nRequirement already satisfied: pyyaml in /usr/local/lib/python3.11/dist-packages (from kagglehub[pandas-datasets]) (6.0.2)\nRequirement already satisfied: requests in /usr/local/lib/python3.11/dist-packages (from kagglehub[pandas-datasets]) (2.32.4)\nRequirement already satisfied: tqdm in /usr/local/lib/python3.11/dist-packages (from kagglehub[pandas-datasets]) (4.67.1)\nRequirement already satisfied: pandas in /usr/local/lib/python3.11/dist-packages (from kagglehub[pandas-datasets]) (2.2.3)\nRequirement already satisfied: numpy>=1.23.2 in /usr/local/lib/python3.11/dist-packages (from pandas->kagglehub[pandas-datasets]) (1.26.4)\nRequirement already satisfied: python-dateutil>=2.8.2 in /usr/local/lib/python3.11/dist-packages (from pandas->kagglehub[pandas-datasets]) (2.9.0.post0)\nRequirement already satisfied: pytz>=2020.1 in /usr/local/lib/python3.11/dist-packages (from pandas->kagglehub[pandas-datasets]) (2025.2)\nRequirement already satisfied: tzdata>=2022.7 in /usr/local/lib/python3.11/dist-packages (from pandas->kagglehub[pandas-datasets]) (2025.2)\nRequirement already satisfied: charset_normalizer<4,>=2 in /usr/local/lib/python3.11/dist-packages (from requests->kagglehub[pandas-datasets]) (3.4.2)\nRequirement already satisfied: idna<4,>=2.5 in /usr/local/lib/python3.11/dist-packages (from requests->kagglehub[pandas-datasets]) (3.10)\nRequirement already satisfied: urllib3<3,>=1.21.1 in /usr/local/lib/python3.11/dist-packages (from requests->kagglehub[pandas-datasets]) (2.5.0)\nRequirement already satisfied: certifi>=2017.4.17 in /usr/local/lib/python3.11/dist-packages (from requests->kagglehub[pandas-datasets]) (2025.6.15)\nRequirement already satisfied: mkl_fft in /usr/local/lib/python3.11/dist-packages (from numpy>=1.23.2->pandas->kagglehub[pandas-datasets]) (1.3.8)\nRequirement already satisfied: mkl_random in /usr/local/lib/python3.11/dist-packages (from numpy>=1.23.2->pandas->kagglehub[pandas-datasets]) (1.2.4)\nRequirement already satisfied: mkl_umath in /usr/local/lib/python3.11/dist-packages (from numpy>=1.23.2->pandas->kagglehub[pandas-datasets]) (0.1.1)\nRequirement already satisfied: mkl in /usr/local/lib/python3.11/dist-packages (from numpy>=1.23.2->pandas->kagglehub[pandas-datasets]) (2025.2.0)\nRequirement already satisfied: tbb4py in /usr/local/lib/python3.11/dist-packages (from numpy>=1.23.2->pandas->kagglehub[pandas-datasets]) (2022.2.0)\nRequirement already satisfied: mkl-service in /usr/local/lib/python3.11/dist-packages (from numpy>=1.23.2->pandas->kagglehub[pandas-datasets]) (2.4.1)\nRequirement already satisfied: six>=1.5 in /usr/local/lib/python3.11/dist-packages (from python-dateutil>=2.8.2->pandas->kagglehub[pandas-datasets]) (1.17.0)\nRequirement already satisfied: intel-openmp<2026,>=2024 in /usr/local/lib/python3.11/dist-packages (from mkl->numpy>=1.23.2->pandas->kagglehub[pandas-datasets]) (2024.2.0)\nRequirement already satisfied: tbb==2022.* in /usr/local/lib/python3.11/dist-packages (from mkl->numpy>=1.23.2->pandas->kagglehub[pandas-datasets]) (2022.2.0)\nRequirement already satisfied: tcmlib==1.* in /usr/local/lib/python3.11/dist-packages (from tbb==2022.*->mkl->numpy>=1.23.2->pandas->kagglehub[pandas-datasets]) (1.4.0)\nRequirement already satisfied: intel-cmplr-lib-rt in /usr/local/lib/python3.11/dist-packages (from mkl_umath->numpy>=1.23.2->pandas->kagglehub[pandas-datasets]) (2024.2.0)\nRequirement already satisfied: intel-cmplr-lib-ur==2024.2.0 in /usr/local/lib/python3.11/dist-packages (from intel-openmp<2026,>=2024->mkl->numpy>=1.23.2->pandas->kagglehub[pandas-datasets]) (2024.2.0)\n",
          "output_type": "stream"
        }
      ],
      "execution_count": null
    },
    {
      "cell_type": "markdown",
      "source": [
        "## **Load SQL Injection Dataset from Kaggle**"
      ],
      "metadata": {
        "id": "UoNHOhHR0cYu"
      }
    },
    {
      "cell_type": "code",
      "source": [
        "\n",
        "import kagglehub\n",
        "from kagglehub import KaggleDatasetAdapter\n",
        "\n",
        "# Set the path to the file you'd like to load\n",
        "# The file path should include the file name and extension, e.g., 'Modified_SQL_Dataset.csv'\n",
        "file_path = \"Modified_SQL_Dataset.csv\"\n",
        "\n",
        "# Load the latest version\n",
        "df = kagglehub.load_dataset(\n",
        "  KaggleDatasetAdapter.PANDAS,\n",
        "  \"sajid576/sql-injection-dataset\",\n",
        "  file_path,\n",
        "\n",
        ")\n",
        "\n",
        "print(\"First 5 records:\", df.head())"
      ],
      "metadata": {
        "colab": {
          "base_uri": "https://localhost:8080/"
        },
        "id": "hGWqQygKDhFP",
        "outputId": "1b78b5ef-74ba-44c2-9b5b-4d4ba194ddf9",
        "trusted": true,
        "execution": {
          "iopub.status.busy": "2025-09-24T21:17:54.422319Z",
          "iopub.execute_input": "2025-09-24T21:17:54.422654Z",
          "iopub.status.idle": "2025-09-24T21:17:55.884667Z",
          "shell.execute_reply.started": "2025-09-24T21:17:54.422619Z",
          "shell.execute_reply": "2025-09-24T21:17:55.883915Z"
        }
      },
      "outputs": [
        {
          "name": "stderr",
          "text": "/tmp/ipykernel_36/2492273489.py:11: DeprecationWarning: load_dataset is deprecated and will be removed in a future version.\n  df = kagglehub.load_dataset(\n",
          "output_type": "stream"
        },
        {
          "name": "stdout",
          "text": "First 5 records:                                                Query  Label\n0                  \" or pg_sleep  (  __TIME__  )  --      1\n1  create user name identified by pass123 tempora...      1\n2   AND 1  =  utl_inaddr.get_host_address   (    ...      1\n3   select * from users where id  =  '1' or @ @1 ...      1\n4   select * from users where id  =  1 or 1#\"  ( ...      1\n",
          "output_type": "stream"
        }
      ],
      "execution_count": null
    },
    {
      "cell_type": "markdown",
      "source": [
        "# **Download SQL Injection Dataset from Kaggle**"
      ],
      "metadata": {
        "id": "qoKCC1oAzhO8"
      }
    },
    {
      "cell_type": "code",
      "source": [
        "import kagglehub\n",
        "\n",
        "# Download latest version\n",
        "path = kagglehub.dataset_download(\"sajid576/sql-injection-dataset\")\n",
        "\n",
        "print(\"Path to dataset files:\", path)\n"
      ],
      "metadata": {
        "colab": {
          "base_uri": "https://localhost:8080/"
        },
        "id": "szRNZKJGowLT",
        "outputId": "1e1068d4-6895-4b7c-a88e-d3da8d23b6b0",
        "trusted": true,
        "execution": {
          "iopub.status.busy": "2025-09-24T21:17:55.885377Z",
          "iopub.execute_input": "2025-09-24T21:17:55.885613Z",
          "iopub.status.idle": "2025-09-24T21:17:56.135267Z",
          "shell.execute_reply.started": "2025-09-24T21:17:55.885596Z",
          "shell.execute_reply": "2025-09-24T21:17:56.134536Z"
        }
      },
      "outputs": [
        {
          "name": "stdout",
          "text": "Path to dataset files: /kaggle/input/sql-injection-dataset\n",
          "output_type": "stream"
        }
      ],
      "execution_count": null
    },
    {
      "cell_type": "markdown",
      "source": [
        "### 📊 Dataset Overview\n",
        "\n",
        "- **Training Dataset**:Custom SQL Injection Dataset  \n",
        "  - Total Samples: **18,000**\n",
        "  - Class Distribution:\n",
        "    - SQL Injection (Malicious): **9,000**\n",
        "    - Normal (Non-Malicious): **9,000**\n",
        "\n",
        "- **Testing Dataset**:[SQL Injection Dataset](https://www.kaggle.com/datasets/sajid576/sql-injection-dataset/data)\n",
        "  - Total Samples: **2,000**\n",
        "  - Class Distribution:\n",
        "    - SQL Injection (Malicious): **1,000**\n",
        "    - Normal (Non-Malicious): **1,000**\n"
      ],
      "metadata": {
        "id": "a3mw-FfmVive"
      }
    },
    {
      "cell_type": "markdown",
      "source": [
        "# **Random Forest**"
      ],
      "metadata": {
        "id": "rz60DS-dVpYM"
      }
    },
    {
      "cell_type": "code",
      "source": [
        "import pandas as pd\n",
        "import numpy as np\n",
        "from sklearn.feature_extraction.text import TfidfVectorizer\n",
        "from xgboost import XGBClassifier\n",
        "from sklearn.model_selection import KFold, GridSearchCV\n",
        "from sklearn.pipeline import Pipeline\n",
        "from sklearn.metrics import classification_report, accuracy_score, confusion_matrix\n",
        "import seaborn as sns\n",
        "import matplotlib.pyplot as plt\n",
        "\n",
        "# 1. Load datasets with the revised order:\n",
        "df_train = pd.read_csv(\"/kaggle/input/rbsqli-a-rule-based-sql-injection-dataset/sql_injectiondataset_final_updated.csv\")\n",
        "df_test  = pd.read_csv(\"/kaggle/input/sql-injection-dataset/Modified_SQL_Dataset.csv\")\n",
        "\n",
        "# 2. Drop missing values from the relevant columns:\n",
        "df_train.dropna(subset=['sql_query', 'vulnerability_status'], inplace=True)\n",
        "df_test.dropna(subset=['Query', 'Label'], inplace=True)\n",
        "\n",
        "# 3. Rename columns to a common scheme \"text\" for the query and \"label\" for the class:\n",
        "df_train.rename(columns={'sql_query': 'text', 'vulnerability_status': 'label'}, inplace=True)\n",
        "df_test.rename(columns={'Query': 'text', 'Label': 'label'}, inplace=True)\n",
        "\n",
        "# 4. Map labels to 0/1 according to each dataset's format:\n",
        "df_train['label'] = df_train['label'].map({'Yes': 1, 'No': 0})\n",
        "df_train.dropna(subset=['label'], inplace=True)\n",
        "df_train['label'] = df_train['label'].astype(int)\n",
        "\n",
        "# For the Kaggle dataset (testing), convert to numeric:\n",
        "df_test['label'] = pd.to_numeric(df_test['label'], errors='coerce')\n",
        "df_test.dropna(subset=['label'], inplace=True)\n",
        "df_test['label'] = df_test['label'].astype(int)\n",
        "\n",
        "# 5. Sample exactly 18,000 train samples (9k per class) and 2,000 test samples (1k per class)\n",
        "df_train_0 = df_train[df_train.label == 0].sample(9000, random_state=42)\n",
        "df_train_1 = df_train[df_train.label == 1].sample(9000, random_state=42)\n",
        "df_train_bal = pd.concat([df_train_0, df_train_1]).sample(frac=1, random_state=42)\n",
        "\n",
        "df_test_0 = df_test[df_test.label == 0].sample(1000, random_state=42)\n",
        "df_test_1 = df_test[df_test.label == 1].sample(1000, random_state=42)\n",
        "df_test_bal = pd.concat([df_test_0, df_test_1]).sample(frac=1, random_state=42)\n",
        "\n",
        "# 6. Split into features and labels for model training and evaluation\n",
        "X_train, y_train = df_train_bal['text'], df_train_bal['label']\n",
        "X_test, y_test   = df_test_bal['text'], df_test_bal['label']\n",
        "\n",
        "# 7. Build a machine learning pipeline: TF-IDF vectorizer followed by an XGBoost classifier\n",
        "pipeline = Pipeline([\n",
        "    ('tfidf', TfidfVectorizer(ngram_range=(1, 2), max_features=20_000)),\n",
        "    ('clf', XGBClassifier(\n",
        "        use_label_encoder=False,\n",
        "        eval_metric='logloss',\n",
        "        random_state=42,\n",
        "        n_jobs=-1\n",
        "    ))\n",
        "])\n",
        "\n",
        "# 8. Define a hyperparameter grid for XGBoost tuning via GridSearchCV\n",
        "param_grid = {\n",
        "    'clf__n_estimators': [100, 300],\n",
        "    'clf__max_depth': [3, 6, 10],\n",
        "    'clf__learning_rate': [0.01, 0.1],\n",
        "    'clf__subsample': [0.8, 1.0],\n",
        "    'clf__colsample_bytree': [0.8, 1.0]\n",
        "}\n",
        "\n",
        "# 9. Define the cross‐validation strategy; here 5-fold CV is used.\n",
        "kf = KFold(n_splits=5, shuffle=True, random_state=42)\n",
        "\n",
        "# 10. Create the GridSearchCV object to find the best hyperparameters based on the F1 score\n",
        "grid_search = GridSearchCV(\n",
        "    pipeline,\n",
        "    param_grid,\n",
        "    cv=kf,\n",
        "    scoring='f1',\n",
        "    n_jobs=-1,\n",
        "    verbose=1\n",
        ")\n",
        "grid_search.fit(X_train, y_train)\n",
        "\n",
        "# 11. Output the best CV F1 score and the best hyperparameters found\n",
        "print(\"Best CV F1 Score:\", grid_search.best_score_)\n",
        "print(\"Best Parameters:\", grid_search.best_params_)\n",
        "\n",
        "# 12. Evaluate the best model on the balanced test set\n",
        "best_model = grid_search.best_estimator_\n",
        "y_pred = best_model.predict(X_test)\n",
        "\n",
        "print(f\"Test Accuracy: {accuracy_score(y_test, y_pred):.4f}\")\n",
        "print(\"Classification Report:\\n\", classification_report(y_test, y_pred, digits=4))\n",
        "\n",
        "# 13. Compute and print the confusion matrix\n",
        "cm = confusion_matrix(y_test, y_pred)\n",
        "print(\"Confusion Matrix:\\n\", cm)\n",
        "\n",
        "# 14. Plot the confusion matrix using seaborn for a visual overview\n",
        "plt.figure(figsize=(8, 6))\n",
        "sns.heatmap(cm, annot=True, fmt='d', cmap='Blues', cbar=True)\n",
        "plt.title('Confusion Matrix')\n",
        "plt.xlabel('Predicted Labels')\n",
        "plt.ylabel('Actual Labels')\n",
        "plt.show()\n"
      ],
      "metadata": {
        "colab": {
          "base_uri": "https://localhost:8080/",
          "height": 929
        },
        "id": "OqtcuuxAVo02",
        "outputId": "ac07a875-1190-4b9d-829c-47ca1abb5847",
        "trusted": true,
        "execution": {
          "iopub.status.busy": "2025-09-24T21:17:56.137083Z",
          "iopub.execute_input": "2025-09-24T21:17:56.137521Z",
          "iopub.status.idle": "2025-09-24T21:28:26.764182Z",
          "shell.execute_reply.started": "2025-09-24T21:17:56.137502Z",
          "shell.execute_reply": "2025-09-24T21:28:26.763564Z"
        }
      },
      "outputs": [
        {
          "name": "stderr",
          "text": "/tmp/ipykernel_36/914756267.py:14: DtypeWarning: Columns (3,4,5,6,7,8) have mixed types. Specify dtype option on import or set low_memory=False.\n  df_train = pd.read_csv(\"/kaggle/input/rbsqli-a-rule-based-sql-injection-dataset/sql_injectiondataset_final_updated.csv\")  # Custom dataset for training\n",
          "output_type": "stream"
        },
        {
          "name": "stdout",
          "text": "Fitting 5 folds for each of 48 candidates, totalling 240 fits\nBest CV F1 Score: 0.9996688452175393\nBest Parameters: {'clf__colsample_bytree': 0.8, 'clf__learning_rate': 0.1, 'clf__max_depth': 10, 'clf__n_estimators': 100, 'clf__subsample': 1.0}\nTest Accuracy: 0.4375\nClassification Report:\n               precision    recall  f1-score   support\n\n           0     0.1118    0.0180    0.0310      1000\n           1     0.4660    0.8570    0.6037      1000\n\n    accuracy                         0.4375      2000\n   macro avg     0.2889    0.4375    0.3174      2000\nweighted avg     0.2889    0.4375    0.3174      2000\n\nConfusion Matrix:\n [[ 18 982]\n [143 857]]\n",
          "output_type": "stream"
        },
        {
          "output_type": "display_data",
          "data": {
            "text/plain": "<Figure size 800x600 with 2 Axes>",
            "image/png": "[encoded data removed]"
          },
          "metadata": {}
        }
      ],
      "execution_count": null
    },
    {
      "cell_type": "markdown",
      "source": [
        "# **Naive Bayes**"
      ],
      "metadata": {
        "id": "IDhbzZ_fNSGk"
      }
    },
    {
      "cell_type": "code",
      "source": [
        "import pandas as pd\n",
        "import numpy as np\n",
        "from sklearn.feature_extraction.text import TfidfVectorizer\n",
        "from sklearn.naive_bayes import MultinomialNB\n",
        "from sklearn.model_selection import KFold, GridSearchCV\n",
        "from sklearn.pipeline import Pipeline\n",
        "from sklearn.metrics import classification_report, accuracy_score, confusion_matrix\n",
        "import seaborn as sns\n",
        "import matplotlib.pyplot as plt\n",
        "\n",
        "# 1. Load datasets with the revised order:\n",
        "df_train = pd.read_csv(\"/kaggle/input/rbsqli-a-rule-based-sql-injection-dataset/sql_injectiondataset_final_updated.csv\")  # Custom dataset for training\n",
        "df_test  = pd.read_csv(\"/kaggle/input/sql-injection-dataset/Modified_SQL_Dataset.csv\")  # Kaggle dataset for testing\n",
        "\n",
        "# 2. Drop missing values from the relevant columns:\n",
        "df_train.dropna(subset=['sql_query', 'vulnerability_status'], inplace=True)\n",
        "df_test.dropna(subset=['Query', 'Label'], inplace=True)\n",
        "\n",
        "# 3. Rename columns to a common scheme \"text\" for the query and \"label\" for the class:\n",
        "df_train.rename(columns={'sql_query': 'text', 'vulnerability_status': 'label'}, inplace=True)\n",
        "df_test.rename(columns={'Query': 'text', 'Label': 'label'}, inplace=True)\n",
        "\n",
        "# 4. Map labels to 0/1 according to each dataset's format:\n",
        "df_train['label'] = df_train['label'].map({'Yes': 1, 'No': 0})\n",
        "df_train.dropna(subset=['label'], inplace=True)\n",
        "df_train['label'] = df_train['label'].astype(int)\n",
        "\n",
        "# For the Kaggle dataset (testing), convert to numeric:\n",
        "df_test['label'] = pd.to_numeric(df_test['label'], errors='coerce')\n",
        "df_test.dropna(subset=['label'], inplace=True)\n",
        "df_test['label'] = df_test['label'].astype(int)\n",
        "\n",
        "# 5. Sample exactly 18,000 train samples (9k per class) and 2,000 test samples (1k per class)\n",
        "df_train_0 = df_train[df_train.label == 0].sample(9000, random_state=42)\n",
        "df_train_1 = df_train[df_train.label == 1].sample(9000, random_state=42)\n",
        "df_train_bal = pd.concat([df_train_0, df_train_1]).sample(frac=1, random_state=42)\n",
        "\n",
        "df_test_0 = df_test[df_test.label == 0].sample(1000, random_state=42)\n",
        "df_test_1 = df_test[df_test.label == 1].sample(1000, random_state=42)\n",
        "df_test_bal = pd.concat([df_test_0, df_test_1]).sample(frac=1, random_state=42)\n",
        "\n",
        "# 6. Split into features and labels for model training and evaluation\n",
        "X_train, y_train = df_train_bal['text'], df_train_bal['label']\n",
        "X_test, y_test   = df_test_bal['text'], df_test_bal['label']\n",
        "\n",
        "# 7. Build a machine learning pipeline: TF-IDF vectorizer followed by a Naive Bayes classifier\n",
        "pipeline = Pipeline([\n",
        "    ('tfidf', TfidfVectorizer(ngram_range=(1, 2), max_features=20_000)),\n",
        "    ('clf', MultinomialNB())  # Using MultinomialNB which is suitable for text classification\n",
        "])\n",
        "\n",
        "# 8. Define a hyperparameter grid for Naive Bayes tuning via GridSearchCV\n",
        "param_grid = {\n",
        "    'tfidf__max_features': [10_000, 20_000, 30_000],\n",
        "    'tfidf__ngram_range': [(1, 1), (1, 2), (1, 3)],\n",
        "    'clf__alpha': [0.01, 0.1, 0.5, 1.0],  # Smoothing parameter\n",
        "    'clf__fit_prior': [True, False]  # Whether to learn class prior probabilities\n",
        "}\n",
        "\n",
        "# 9. Define the cross‐validation strategy; here 5-fold CV is used.\n",
        "kf = KFold(n_splits=5, shuffle=True, random_state=42)\n",
        "\n",
        "# 10. Create the GridSearchCV object to find the best hyperparameters based on the F1 score\n",
        "grid_search = GridSearchCV(\n",
        "    pipeline,\n",
        "    param_grid,\n",
        "    cv=kf,\n",
        "    scoring='f1',\n",
        "    n_jobs=-1,\n",
        "    verbose=1\n",
        ")\n",
        "grid_search.fit(X_train, y_train)\n",
        "\n",
        "# 11. Output the best CV F1 score and the best hyperparameters found\n",
        "print(\"Best CV F1 Score:\", grid_search.best_score_)\n",
        "print(\"Best Parameters:\", grid_search.best_params_)\n",
        "\n",
        "# 12. Evaluate the best model on the balanced test set\n",
        "best_model = grid_search.best_estimator_\n",
        "y_pred = best_model.predict(X_test)\n",
        "\n",
        "print(f\"Test Accuracy: {accuracy_score(y_test, y_pred):.4f}\")\n",
        "print(\"Classification Report:\\n\", classification_report(y_test, y_pred, digits=4))\n",
        "\n",
        "# 13. Compute and print the confusion matrix\n",
        "cm = confusion_matrix(y_test, y_pred)\n",
        "print(\"Confusion Matrix:\\n\", cm)\n",
        "\n",
        "# 14. Plot the confusion matrix using seaborn for a visual overview\n",
        "plt.figure(figsize=(8, 6))\n",
        "sns.heatmap(cm, annot=True, fmt='d', cmap='Blues', cbar=True)\n",
        "plt.title('Confusion Matrix - Naive Bayes')\n",
        "plt.xlabel('Predicted Labels')\n",
        "plt.ylabel('Actual Labels')\n",
        "plt.show()"
      ],
      "metadata": {
        "colab": {
          "base_uri": "https://localhost:8080/",
          "height": 859
        },
        "id": "mJGB3Yp0H-6S",
        "outputId": "02d4f275-5aec-4fe2-bdff-6cb9404c9674",
        "trusted": true,
        "execution": {
          "iopub.status.busy": "2025-09-24T21:33:10.429652Z",
          "iopub.execute_input": "2025-09-24T21:33:10.429961Z",
          "iopub.status.idle": "2025-09-24T21:34:34.324008Z",
          "shell.execute_reply.started": "2025-09-24T21:33:10.429940Z",
          "shell.execute_reply": "2025-09-24T21:34:34.323385Z"
        }
      },
      "outputs": [
        {
          "name": "stderr",
          "text": "/tmp/ipykernel_36/172145471.py:14: DtypeWarning: Columns (3,4,5,6,7,8) have mixed types. Specify dtype option on import or set low_memory=False.\n  df_train = pd.read_csv(\"/kaggle/input/rbsqli-a-rule-based-sql-injection-dataset/sql_injectiondataset_final_updated.csv\")  # Custom dataset for training\n",
          "output_type": "stream"
        },
        {
          "name": "stdout",
          "text": "Fitting 5 folds for each of 72 candidates, totalling 360 fits\nBest CV F1 Score: 1.0\nBest Parameters: {'clf__alpha': 0.01, 'clf__fit_prior': True, 'tfidf__max_features': 10000, 'tfidf__ngram_range': (1, 2)}\nTest Accuracy: 0.6900\nClassification Report:\n               precision    recall  f1-score   support\n\n           0     0.9204    0.4160    0.5730      1000\n           1     0.6227    0.9640    0.7567      1000\n\n    accuracy                         0.6900      2000\n   macro avg     0.7715    0.6900    0.6648      2000\nweighted avg     0.7715    0.6900    0.6648      2000\n\nConfusion Matrix:\n [[416 584]\n [ 36 964]]\n",
          "output_type": "stream"
        },
        {
          "output_type": "display_data",
          "data": {
            "text/plain": "<Figure size 800x600 with 2 Axes>",
            "image/png": "[encoded data removed]"
          },
          "metadata": {}
        }
      ],
      "execution_count": null
    },
    {
      "cell_type": "markdown",
      "source": [
        "# **SVC**"
      ],
      "metadata": {
        "id": "EV5QGz7zNJrz"
      }
    },
    {
      "cell_type": "code",
      "source": [
        "import pandas as pd\n",
        "import numpy as np\n",
        "from sklearn.feature_extraction.text import TfidfVectorizer\n",
        "from sklearn.svm import SVC\n",
        "from sklearn.model_selection import KFold, GridSearchCV\n",
        "from sklearn.pipeline import Pipeline\n",
        "from sklearn.metrics import classification_report, accuracy_score, confusion_matrix\n",
        "import seaborn as sns\n",
        "import matplotlib.pyplot as plt\n",
        "\n",
        "# 1. Load datasets with low_memory=False to suppress DtypeWarning\n",
        "df_train = pd.read_csv(\n",
        "    \"/kaggle/input/rbsqli-a-rule-based-sql-injection-dataset/sql_injectiondataset_final_updated.csv\",\n",
        "    low_memory=False,\n",
        "    dtype={'sql_query': str, 'vulnerability_status': str}\n",
        ")\n",
        "\n",
        "df_test = pd.read_csv(\n",
        "    \"/kaggle/input/sql-injection-dataset/Modified_SQL_Dataset.csv\",\n",
        "    low_memory=False,\n",
        "    dtype={'Query': str, 'Label': str}\n",
        ")\n",
        "\n",
        "# 2. Drop missing values from the relevant columns\n",
        "df_train.dropna(subset=['sql_query', 'vulnerability_status'], inplace=True)\n",
        "df_test.dropna(subset=['Query', 'Label'], inplace=True)\n",
        "\n",
        "# 3. Rename columns to a common scheme\n",
        "df_train.rename(columns={'sql_query': 'text', 'vulnerability_status': 'label'}, inplace=True)\n",
        "df_test.rename(columns={'Query': 'text', 'Label': 'label'}, inplace=True)\n",
        "\n",
        "# 4. Map labels to 0/1\n",
        "df_train['label'] = df_train['label'].map({'Yes': 1, 'No': 0})\n",
        "df_train.dropna(subset=['label'], inplace=True)\n",
        "df_train['label'] = df_train['label'].astype(int)\n",
        "\n",
        "# Kaggle dataset (test) -> numeric\n",
        "df_test['label'] = pd.to_numeric(df_test['label'], errors='coerce')\n",
        "df_test.dropna(subset=['label'], inplace=True)\n",
        "df_test['label'] = df_test['label'].astype(int)\n",
        "\n",
        "# 5. Balanced sampling (safe, even if fewer rows exist)\n",
        "train_min = min(df_train['label'].value_counts().min(), 9000)\n",
        "test_min = min(df_test['label'].value_counts().min(), 1000)\n",
        "\n",
        "df_train_0 = df_train[df_train.label == 0].sample(train_min, random_state=42)\n",
        "df_train_1 = df_train[df_train.label == 1].sample(train_min, random_state=42)\n",
        "df_train_bal = pd.concat([df_train_0, df_train_1]).sample(frac=1, random_state=42)\n",
        "\n",
        "df_test_0 = df_test[df_test.label == 0].sample(test_min, random_state=42)\n",
        "df_test_1 = df_test[df_test.label == 1].sample(test_min, random_state=42)\n",
        "df_test_bal = pd.concat([df_test_0, df_test_1]).sample(frac=1, random_state=42)\n",
        "\n",
        "# 6. Split into features and labels\n",
        "X_train, y_train = df_train_bal['text'], df_train_bal['label']\n",
        "X_test, y_test = df_test_bal['text'], df_test_bal['label']\n",
        "\n",
        "# 7. Pipeline: TF-IDF + SVC\n",
        "pipeline = Pipeline([\n",
        "    ('tfidf', TfidfVectorizer(ngram_range=(1, 2), max_features=20_000)),\n",
        "    ('clf', SVC(random_state=42))\n",
        "])\n",
        "\n",
        "# 8. Hyperparameter grid\n",
        "param_grid = {\n",
        "    'tfidf__max_features': [10_000, 20_000],\n",
        "    'tfidf__ngram_range': [(1, 1), (1, 2)],\n",
        "    'clf__C': [0.1, 1.0, 10.0],\n",
        "    'clf__kernel': ['linear', 'rbf'],\n",
        "    'clf__gamma': ['scale', 'auto']\n",
        "}\n",
        "\n",
        "# 9. Cross-validation strategy\n",
        "kf = KFold(n_splits=5, shuffle=True, random_state=42)\n",
        "\n",
        "# 10. GridSearchCV\n",
        "grid_search = GridSearchCV(\n",
        "    pipeline,\n",
        "    param_grid,\n",
        "    cv=kf,\n",
        "    scoring='f1',\n",
        "    n_jobs=-1,\n",
        "    verbose=1\n",
        ")\n",
        "grid_search.fit(X_train, y_train)\n",
        "\n",
        "# 11. Best CV score & params\n",
        "print(\"Best CV F1 Score:\", grid_search.best_score_)\n",
        "print(\"Best Parameters:\", grid_search.best_params_)\n",
        "\n",
        "# 12. Evaluate on test set\n",
        "best_model = grid_search.best_estimator_\n",
        "y_pred = best_model.predict(X_test)\n",
        "\n",
        "print(f\"Test Accuracy: {accuracy_score(y_test, y_pred):.4f}\")\n",
        "print(\"Classification Report:\\n\", classification_report(y_test, y_pred, digits=4))\n",
        "\n",
        "# 13. Confusion matrix\n",
        "cm = confusion_matrix(y_test, y_pred)\n",
        "print(\"Confusion Matrix:\\n\", cm)\n",
        "\n",
        "# 14. Plot confusion matrix\n",
        "plt.figure(figsize=(8, 6))\n",
        "sns.heatmap(cm, annot=True, fmt='d', cmap='Blues', cbar=True)\n",
        "plt.title('Confusion Matrix - SVC')\n",
        "plt.xlabel('Predicted Labels')\n",
        "plt.ylabel('Actual Labels')\n",
        "plt.show()\n",
        "\n",
        "# 15. Compare with a simple linear SVC\n",
        "simple_svc_pipeline = Pipeline([\n",
        "    ('tfidf', TfidfVectorizer(ngram_range=(1, 2), max_features=20_000)),\n",
        "    ('clf', SVC(kernel='linear', C=1.0, random_state=42))\n",
        "])\n"
      ],
      "metadata": {
        "colab": {
          "base_uri": "https://localhost:8080/",
          "height": 859
        },
        "id": "AvdRLvltNMHL",
        "outputId": "0dc7eaee-7f3f-4059-9002-7a0ba90b5d64",
        "trusted": true,
        "execution": {
          "iopub.status.busy": "2025-09-24T21:38:33.374598Z",
          "iopub.execute_input": "2025-09-24T21:38:33.374893Z",
          "iopub.status.idle": "2025-09-24T21:50:17.069559Z",
          "shell.execute_reply.started": "2025-09-24T21:38:33.374872Z",
          "shell.execute_reply": "2025-09-24T21:50:17.068684Z"
        }
      },
      "outputs": [
        {
          "name": "stdout",
          "text": "Fitting 5 folds for each of 48 candidates, totalling 240 fits\nBest CV F1 Score: 1.0\nBest Parameters: {'clf__C': 0.1, 'clf__gamma': 'scale', 'clf__kernel': 'linear', 'tfidf__max_features': 10000, 'tfidf__ngram_range': (1, 2)}\nTest Accuracy: 0.5155\nClassification Report:\n               precision    recall  f1-score   support\n\n           0     0.6914    0.0560    0.1036      1000\n           1     0.5081    0.9750    0.6680      1000\n\n    accuracy                         0.5155      2000\n   macro avg     0.5997    0.5155    0.3858      2000\nweighted avg     0.5997    0.5155    0.3858      2000\n\nConfusion Matrix:\n [[ 56 944]\n [ 25 975]]\n",
          "output_type": "stream"
        },
        {
          "output_type": "display_data",
          "data": {
            "text/plain": "<Figure size 800x600 with 2 Axes>",
            "image/png": "[encoded data removed]"
          },
          "metadata": {}
        }
      ],
      "execution_count": null
    }
  ]
}