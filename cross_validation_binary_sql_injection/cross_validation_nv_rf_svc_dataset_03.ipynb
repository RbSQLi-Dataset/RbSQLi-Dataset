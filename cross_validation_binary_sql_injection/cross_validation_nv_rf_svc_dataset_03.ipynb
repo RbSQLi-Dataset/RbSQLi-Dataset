{
  "nbformat": 4,
  "nbformat_minor": 0,
  "metadata": {
    "colab": {
      "provenance": [],
      "gpuType": "T4"
    },
    "kernelspec": {
      "name": "python3",
      "display_name": "Python 3"
    },
    "language_info": {
      "name": "python"
    },
    "accelerator": "GPU"
  },
  "cells": [
    {
      "cell_type": "markdown",
      "source": [
        "# **Cross-Validation Training on Dataset 02 for Binary SQL Injection Detection**"
      ],
      "metadata": {
        "id": "J7triJpKm1hF"
      }
    },
    {
      "cell_type": "markdown",
      "source": [
        "**We implements a comparative analysis of machine learning models (Naive Bayes, Random Forest, and Support Vector class) for SQL injection detection. The framework uses TF-IDF vectorization with n-grams on balanced datasets and optimizes hyperparameters via 5-fold cross-validation. While all models achieve high CV F1 scores (>0.99) during training, test set performance ranges from 48.6-52.25% accuracy when applying SQL-trained models to NoSQL data, highlighting domain transfer challenges. SVC with linear kernel performs best (52.25% accuracy, 0.65 F1-score for malicious queries), demonstrating potential for cross-domain vulnerability detection despite the significant shift between SQL and NoSQL contexts.**"
      ],
      "metadata": {
        "id": "oAY6qkaGlfGA"
      }
    },
    {
      "cell_type": "markdown",
      "source": [
        "# **Unzip Dataset Archive**"
      ],
      "metadata": {
        "id": "s4jtIw_Djx_-"
      }
    },
    {
      "cell_type": "code",
      "source": [
        "!unzip /content/archive.zip -d /content/"
      ],
      "metadata": {
        "colab": {
          "base_uri": "https://localhost:8080/"
        },
        "id": "dO1Nf3itDR8y",
        "outputId": "bcddee63-0d80-421f-900d-befbb8daf43b"
      },
      "execution_count": null,
      "outputs": [
        {
          "output_type": "stream",
          "name": "stdout",
          "text": [
            "Archive:  /content/archive.zip\n",
            "  inflating: /content/sql_injectiondataset_final_updated.csv  \n"
          ]
        }
      ]
    },
    {
      "cell_type": "markdown",
      "source": [
        "# **Import the Dataset**"
      ],
      "metadata": {
        "id": "NwfmgWuiBq5b"
      }
    },
    {
      "cell_type": "code",
      "source": [
        "import pandas as pd\n",
        "import json\n",
        "\n",
        "# Load the JSON file\n",
        "json_path = \"/content/No-SqlDataset.json\"\n",
        "with open(json_path, \"r\", encoding=\"utf-8\") as file:\n",
        "    data = json.load(file)\n",
        "\n",
        "# Convert JSON to DataFrame\n",
        "df = pd.DataFrame(data)\n",
        "# Save to CSV\n",
        "csv_path = \"/content/No-SqlDataset_Updated.csv\"\n",
        "df.to_csv(csv_path, index=False)\n",
        "\n",
        "print(\"CSV saved to:\", csv_path)\n"
      ],
      "metadata": {
        "colab": {
          "base_uri": "https://localhost:8080/"
        },
        "id": "J9LGA73UBt65",
        "outputId": "f9694a53-602d-449e-8530-cb70b19df73a"
      },
      "execution_count": null,
      "outputs": [
        {
          "output_type": "stream",
          "name": "stdout",
          "text": [
            "CSV saved to: /content/No-SqlDataset_Updated.csv\n"
          ]
        }
      ]
    },
    {
      "cell_type": "markdown",
      "source": [
        "### 📊 Dataset Overview\n",
        "\n",
        "- **Training Dataset**:Custom SQL Injection Dataset  \n",
        "  - Total Samples: **3204**\n",
        "  - Class Distribution:\n",
        "    - SQL Injection (Malicious): **1602**\n",
        "    - Normal (Non-Malicious): **1602**\n",
        "\n",
        "- **Testing Dataset**:[SQL Injection Dataset](https://github.com/capnmav77/No-SQL_Gen/tree/master)\n",
        "  - Total Samples: **356**\n",
        "  - Class Distribution:\n",
        "    - SQL Injection (Malicious): **178**\n",
        "    - Normal (Non-Malicious): **178**"
      ],
      "metadata": {
        "id": "D4GJJ3nJid33"
      }
    },
    {
      "cell_type": "markdown",
      "source": [
        "# **Naive Bayes**"
      ],
      "metadata": {
        "id": "g364xYjRBnkL"
      }
    },
    {
      "cell_type": "code",
      "source": [
        "import pandas as pd\n",
        "import numpy as np\n",
        "from sklearn.feature_extraction.text import TfidfVectorizer\n",
        "from sklearn.naive_bayes import MultinomialNB\n",
        "from sklearn.model_selection import KFold, GridSearchCV\n",
        "from sklearn.pipeline import Pipeline\n",
        "from sklearn.metrics import classification_report, accuracy_score, confusion_matrix\n",
        "import seaborn as sns\n",
        "import matplotlib.pyplot as plt\n",
        "\n",
        "# 1. Load datasets (swapped)\n",
        "df_train = pd.read_csv(\"/content/sql_injectiondataset_final_updated.csv\")\n",
        "df_test = pd.read_csv(\"/content/No-SqlDataset_Updated.csv\")\n",
        "\n",
        "# 2. Drop missing values\n",
        "df_train.dropna(subset=['sql_query', 'vulnerability_status'], inplace=True)\n",
        "df_test.dropna(subset=['text', 'label'], inplace=True)\n",
        "\n",
        "# 3. Rename columns to a common scheme\n",
        "df_train.rename(columns={'sql_query': 'text', 'vulnerability_status': 'label'}, inplace=True)\n",
        "df_test.rename(columns={'text': 'text', 'label': 'label'}, inplace=True)\n",
        "\n",
        "# 4. Map labels to 0/1\n",
        "df_train['label'] = df_train['label'].map({'Yes': 1, 'No': 0})\n",
        "df_train.dropna(subset=['label'], inplace=True)\n",
        "df_train['label'] = df_train['label'].astype(int)\n",
        "\n",
        "df_test['label'] = pd.to_numeric(df_test['label'], errors='coerce')\n",
        "df_test.dropna(subset=['label'], inplace=True)\n",
        "df_test['label'] = df_test['label'].astype(int)\n",
        "\n",
        "# 5. Sample exactly 3204 train samples (1602 per class) and 356 test samples (178) per class)\n",
        "df_train_0 = df_train[df_train.label == 0].sample(1602, random_state=42)\n",
        "df_train_1 = df_train[df_train.label == 1].sample(1602, random_state=42)\n",
        "df_train_bal = pd.concat([df_train_0, df_train_1]).sample(frac=1, random_state=42)\n",
        "\n",
        "df_test_0 = df_test[df_test.label == 0].sample(178, random_state=42)\n",
        "df_test_1 = df_test[df_test.label == 1].sample(178, random_state=42)\n",
        "df_test_bal = pd.concat([df_test_0, df_test_1]).sample(frac=1, random_state=42)\n",
        "\n",
        "# 6. Split into features and labels\n",
        "X_train, y_train = df_train_bal['text'], df_train_bal['label']\n",
        "X_test, y_test = df_test_bal['text'], df_test_bal['label']\n",
        "\n",
        "# 7. Build a pipeline: TF-IDF → Naive Bayes\n",
        "pipeline = Pipeline([\n",
        "    ('tfidf', TfidfVectorizer(ngram_range=(1, 2), max_features=20_000)),\n",
        "    ('clf', MultinomialNB())\n",
        "])\n",
        "\n",
        "# 8. Hyperparameter grid for Naive Bayes\n",
        "param_grid = {\n",
        "    'clf__alpha': [0.01, 0.1, 0.5, 1.0, 2.0],\n",
        "    'clf__fit_prior': [True, False]\n",
        "}\n",
        "\n",
        "# 9. Cross‐validation strategy\n",
        "kf = KFold(n_splits=5, shuffle=True, random_state=42)\n",
        "\n",
        "# 10. GridSearchCV to find best hyperparameters\n",
        "grid_search = GridSearchCV(\n",
        "    pipeline,\n",
        "    param_grid,\n",
        "    cv=kf,\n",
        "    scoring='f1',\n",
        "    n_jobs=-1,\n",
        "    verbose=1\n",
        ")\n",
        "grid_search.fit(X_train, y_train)\n",
        "\n",
        "# 11. Output best CV score and parameters\n",
        "print(\"Best CV F1 Score:\", grid_search.best_score_)\n",
        "print(\"Best Parameters:\", grid_search.best_params_)\n",
        "\n",
        "# 12. Evaluate on the balanced test set\n",
        "best_model = grid_search.best_estimator_\n",
        "y_pred = best_model.predict(X_test)\n",
        "\n",
        "print(f\"Test Accuracy: {accuracy_score(y_test, y_pred):.4f}\")\n",
        "print(\"Classification Report:\\n\", classification_report(y_test, y_pred, digits=4))\n",
        "\n",
        "# 13. Compute the confusion matrix\n",
        "cm = confusion_matrix(y_test, y_pred)\n",
        "print(\"Confusion Matrix:\\n\", cm)\n",
        "\n",
        "# 14. Plotting the confusion matrix using seaborn\n",
        "plt.figure(figsize=(8, 6))\n",
        "sns.heatmap(cm, annot=True, fmt='d', cmap='Blues', cbar=True)\n",
        "plt.title('Confusion Matrix')\n",
        "plt.xlabel('Predicted Labels')\n",
        "plt.ylabel('Actual Labels')\n",
        "plt.show()"
      ],
      "metadata": {
        "colab": {
          "base_uri": "https://localhost:8080/",
          "height": 894
        },
        "id": "ea_Vw9Auetc-",
        "outputId": "539ce398-052f-41b5-d319-6fe112c05922"
      },
      "execution_count": null,
      "outputs": [
        {
          "output_type": "stream",
          "name": "stderr",
          "text": [
            "/tmp/ipython-input-3267062828.py:12: DtypeWarning: Columns (3,4,5,6,7,8) have mixed types. Specify dtype option on import or set low_memory=False.\n",
            "  df_train = pd.read_csv(\"/content/sql_injectiondataset_final_updated.csv\")\n"
          ]
        },
        {
          "output_type": "stream",
          "name": "stdout",
          "text": [
            "Fitting 5 folds for each of 10 candidates, totalling 50 fits\n",
            "Best CV F1 Score: 1.0\n",
            "Best Parameters: {'clf__alpha': 0.01, 'clf__fit_prior': True}\n",
            "Test Accuracy: 0.5000\n",
            "Classification Report:\n",
            "               precision    recall  f1-score   support\n",
            "\n",
            "           0     0.5000    0.0843    0.1442       178\n",
            "           1     0.5000    0.9157    0.6468       178\n",
            "\n",
            "    accuracy                         0.5000       356\n",
            "   macro avg     0.5000    0.5000    0.3955       356\n",
            "weighted avg     0.5000    0.5000    0.3955       356\n",
            "\n",
            "Confusion Matrix:\n",
            " [[ 15 163]\n",
            " [ 15 163]]\n"
          ]
        },
        {
          "output_type": "display_data",
          "data": {
            "text/plain": [
              "<Figure size 800x600 with 2 Axes>"
            ],
            "image/png": "[encoded data removed]"
          },
          "metadata": {}
        }
      ]
    },
    {
      "cell_type": "markdown",
      "source": [
        "## **Random Forest**"
      ],
      "metadata": {
        "id": "HGVj76ehEisT"
      }
    },
    {
      "cell_type": "code",
      "source": [
        "import pandas as pd\n",
        "import numpy as np\n",
        "from sklearn.feature_extraction.text import TfidfVectorizer\n",
        "from sklearn.ensemble import RandomForestClassifier\n",
        "from sklearn.model_selection import KFold, GridSearchCV\n",
        "from sklearn.pipeline import Pipeline\n",
        "from sklearn.metrics import classification_report, accuracy_score, confusion_matrix\n",
        "import seaborn as sns\n",
        "import matplotlib.pyplot as plt\n",
        "\n",
        "# 1. Load datasets (swapped)\n",
        "df_train = pd.read_csv(\"/content/sql_injectiondataset_final_updated.csv\")\n",
        "df_test = pd.read_csv(\"/content/No-SqlDataset_Updated.csv\")\n",
        "\n",
        "# 2. Drop missing values\n",
        "df_train.dropna(subset=['sql_query', 'vulnerability_status'], inplace=True)\n",
        "df_test.dropna(subset=['text', 'label'], inplace=True)\n",
        "\n",
        "# 3. Rename columns to a common scheme\n",
        "df_train.rename(columns={'sql_query': 'text', 'vulnerability_status': 'label'}, inplace=True)\n",
        "df_test.rename(columns={'text': 'text', 'label': 'label'}, inplace=True)\n",
        "\n",
        "# 4. Map labels to 0/1\n",
        "df_train['label'] = df_train['label'].map({'Yes': 1, 'No': 0})\n",
        "df_train.dropna(subset=['label'], inplace=True)\n",
        "df_train['label'] = df_train['label'].astype(int)\n",
        "\n",
        "df_test['label'] = pd.to_numeric(df_test['label'], errors='coerce')\n",
        "df_test.dropna(subset=['label'], inplace=True)\n",
        "df_test['label'] = df_test['label'].astype(int)\n",
        "\n",
        "#  5. Sample exactly 3204 train samples (1602 per class) and 356 test samples (178) per class\n",
        "df_train_0 = df_train[df_train.label == 0].sample(1602, random_state=42)\n",
        "df_train_1 = df_train[df_train.label == 1].sample(1602, random_state=42)\n",
        "df_train_bal = pd.concat([df_train_0, df_train_1]).sample(frac=1, random_state=42)\n",
        "\n",
        "df_test_0 = df_test[df_test.label == 0].sample(178, random_state=42)\n",
        "df_test_1 = df_test[df_test.label == 1].sample(178, random_state=42)\n",
        "df_test_bal = pd.concat([df_test_0, df_test_1]).sample(frac=1, random_state=42)\n",
        "\n",
        "# 6. Split into features and labels\n",
        "X_train, y_train = df_train_bal['text'], df_train_bal['label']\n",
        "X_test, y_test = df_test_bal['text'], df_test_bal['label']\n",
        "\n",
        "# 7. Build a pipeline: TF-IDF → Random Forest\n",
        "pipeline = Pipeline([\n",
        "    ('tfidf', TfidfVectorizer(ngram_range=(1, 2), max_features=20_000)),\n",
        "    ('clf', RandomForestClassifier(random_state=42))\n",
        "])\n",
        "\n",
        "# 8. Hyperparameter grid for Random Forest\n",
        "param_grid = {\n",
        "    'clf__n_estimators': [50, 100, 200],\n",
        "    'clf__max_depth': [None, 10, 20, 30],\n",
        "    'clf__min_samples_split': [2, 5, 10],\n",
        "    'clf__min_samples_leaf': [1, 2, 4]\n",
        "}\n",
        "\n",
        "# 9. Cross‐validation strategy\n",
        "kf = KFold(n_splits=5, shuffle=True, random_state=42)\n",
        "\n",
        "# 10. GridSearchCV to find best hyperparameters\n",
        "grid_search = GridSearchCV(\n",
        "    pipeline,\n",
        "    param_grid,\n",
        "    cv=kf,\n",
        "    scoring='f1',\n",
        "    n_jobs=-1,\n",
        "    verbose=1\n",
        ")\n",
        "grid_search.fit(X_train, y_train)\n",
        "\n",
        "# 11. Output best CV score and parameters\n",
        "print(\"Best CV F1 Score:\", grid_search.best_score_)\n",
        "print(\"Best Parameters:\", grid_search.best_params_)\n",
        "\n",
        "# 12. Evaluate on the balanced test set\n",
        "best_model = grid_search.best_estimator_\n",
        "y_pred = best_model.predict(X_test)\n",
        "\n",
        "print(f\"Test Accuracy: {accuracy_score(y_test, y_pred):.4f}\")\n",
        "print(\"Classification Report:\\n\", classification_report(y_test, y_pred, digits=4))\n",
        "\n",
        "# 13. Compute the confusion matrix\n",
        "cm = confusion_matrix(y_test, y_pred)\n",
        "print(\"Confusion Matrix:\\n\", cm)\n",
        "\n",
        "# 14. Plotting the confusion matrix using seaborn\n",
        "plt.figure(figsize=(8, 6))\n",
        "sns.heatmap(cm, annot=True, fmt='d', cmap='Blues', cbar=True)\n",
        "plt.title('Confusion Matrix')\n",
        "plt.xlabel('Predicted Labels')\n",
        "plt.ylabel('Actual Labels')\n",
        "plt.show()"
      ],
      "metadata": {
        "colab": {
          "base_uri": "https://localhost:8080/",
          "height": 894
        },
        "id": "OCQ5ew5pEkZL",
        "outputId": "5e555e07-8858-404b-d4b5-28523b141560"
      },
      "execution_count": null,
      "outputs": [
        {
          "output_type": "stream",
          "name": "stderr",
          "text": [
            "/tmp/ipython-input-2751860121.py:12: DtypeWarning: Columns (3,4,5,6,7,8) have mixed types. Specify dtype option on import or set low_memory=False.\n",
            "  df_train = pd.read_csv(\"/content/sql_injectiondataset_final_updated.csv\")\n"
          ]
        },
        {
          "output_type": "stream",
          "name": "stdout",
          "text": [
            "Fitting 5 folds for each of 108 candidates, totalling 540 fits\n",
            "Best CV F1 Score: 0.9990465551537957\n",
            "Best Parameters: {'clf__max_depth': 20, 'clf__min_samples_leaf': 1, 'clf__min_samples_split': 2, 'clf__n_estimators': 200}\n",
            "Test Accuracy: 0.4860\n",
            "Classification Report:\n",
            "               precision    recall  f1-score   support\n",
            "\n",
            "           0     0.4747    0.2640    0.3394       178\n",
            "           1     0.4903    0.7079    0.5793       178\n",
            "\n",
            "    accuracy                         0.4860       356\n",
            "   macro avg     0.4825    0.4860    0.4593       356\n",
            "weighted avg     0.4825    0.4860    0.4593       356\n",
            "\n",
            "Confusion Matrix:\n",
            " [[ 47 131]\n",
            " [ 52 126]]\n"
          ]
        },
        {
          "output_type": "display_data",
          "data": {
            "text/plain": [
              "<Figure size 800x600 with 2 Axes>"
            ],
            "image/png": "[encoded data removed]"
          },
          "metadata": {}
        }
      ]
    },
    {
      "cell_type": "markdown",
      "source": [
        "#**SVC**"
      ],
      "metadata": {
        "id": "0AF4-PaVJfEL"
      }
    },
    {
      "cell_type": "code",
      "source": [
        "import pandas as pd\n",
        "import numpy as np\n",
        "from sklearn.feature_extraction.text import TfidfVectorizer\n",
        "from sklearn.svm import SVC\n",
        "from sklearn.model_selection import KFold, GridSearchCV\n",
        "from sklearn.pipeline import Pipeline\n",
        "from sklearn.metrics import classification_report, accuracy_score, confusion_matrix\n",
        "import seaborn as sns\n",
        "import matplotlib.pyplot as plt\n",
        "\n",
        "# 1. Load datasets (swapped)\n",
        "df_train = pd.read_csv(\"/content/sql_injectiondataset_final_updated.csv\")\n",
        "df_test = pd.read_csv(\"/content/No-SqlDataset_Updated.csv\")\n",
        "\n",
        "# 2. Drop missing values\n",
        "df_train.dropna(subset=['sql_query', 'vulnerability_status'], inplace=True)\n",
        "df_test.dropna(subset=['text', 'label'], inplace=True)\n",
        "\n",
        "# 3. Rename columns to a common scheme\n",
        "df_train.rename(columns={'sql_query': 'text', 'vulnerability_status': 'label'}, inplace=True)\n",
        "df_test.rename(columns={'text': 'text', 'label': 'label'}, inplace=True)\n",
        "\n",
        "# 4. Map labels to 0/1\n",
        "df_train['label'] = df_train['label'].map({'Yes': 1, 'No': 0})\n",
        "df_train.dropna(subset=['label'], inplace=True)\n",
        "df_train['label'] = df_train['label'].astype(int)\n",
        "\n",
        "df_test['label'] = pd.to_numeric(df_test['label'], errors='coerce')\n",
        "df_test.dropna(subset=['label'], inplace=True)\n",
        "df_test['label'] = df_test['label'].astype(int)\n",
        "\n",
        "# 5. Sample exactly 178 train samples (89 per class) and 178 test samples (89 per class)\n",
        "df_train_0 = df_train[df_train.label == 0].sample(178, random_state=42)\n",
        "df_train_1 = df_train[df_train.label == 1].sample(178, random_state=42)\n",
        "df_train_bal = pd.concat([df_train_0, df_train_1]).sample(frac=1, random_state=42)\n",
        "\n",
        "df_test_0 = df_test[df_test.label == 0].sample(178, random_state=42)\n",
        "df_test_1 = df_test[df_test.label == 1].sample(178, random_state=42)\n",
        "df_test_bal = pd.concat([df_test_0, df_test_1]).sample(frac=1, random_state=42)\n",
        "\n",
        "# 6. Split into features and labels\n",
        "X_train, y_train = df_train_bal['text'], df_train_bal['label']\n",
        "X_test, y_test = df_test_bal['text'], df_test_bal['label']\n",
        "\n",
        "# 7. Build a pipeline: TF-IDF → SVC\n",
        "pipeline = Pipeline([\n",
        "    ('tfidf', TfidfVectorizer(ngram_range=(1, 2), max_features=10_000)),\n",
        "    ('clf', SVC(random_state=42))\n",
        "])\n",
        "\n",
        "# 8. Hyperparameter grid for SVC\n",
        "param_grid = {\n",
        "    'clf__C': [0.1, 1, 10, 100],\n",
        "    'clf__kernel': ['linear', 'rbf', 'poly'],\n",
        "    'clf__gamma': ['scale', 'auto', 0.1, 0.01],\n",
        "    'clf__class_weight': [None, 'balanced'],\n",
        "}\n",
        "\n",
        "# 9. Cross‐validation strategy\n",
        "kf = KFold(n_splits=5, shuffle=True, random_state=42)\n",
        "\n",
        "# 10. GridSearchCV to find best hyperparameters\n",
        "grid_search = GridSearchCV(\n",
        "    pipeline,\n",
        "    param_grid,\n",
        "    cv=kf,\n",
        "    scoring='f1',\n",
        "    n_jobs=-1,\n",
        "    verbose=1\n",
        ")\n",
        "grid_search.fit(X_train, y_train)\n",
        "\n",
        "# 11. Output best CV score and parameters\n",
        "print(\"Best CV F1 Score:\", grid_search.best_score_)\n",
        "print(\"Best Parameters:\", grid_search.best_params_)\n",
        "\n",
        "# 12. Evaluate on the balanced test set\n",
        "best_model = grid_search.best_estimator_\n",
        "y_pred = best_model.predict(X_test)\n",
        "\n",
        "print(f\"Test Accuracy: {accuracy_score(y_test, y_pred):.4f}\")\n",
        "print(\"Classification Report:\\n\", classification_report(y_test, y_pred, digits=4))\n",
        "\n",
        "# 13. Compute the confusion matrix\n",
        "cm = confusion_matrix(y_test, y_pred)\n",
        "print(\"Confusion Matrix:\\n\", cm)\n",
        "\n",
        "# 14. Plotting the confusion matrix using seaborn\n",
        "plt.figure(figsize=(8, 6))\n",
        "sns.heatmap(cm, annot=True, fmt='d', cmap='Blues', cbar=True)\n",
        "plt.title('Confusion Matrix')\n",
        "plt.xlabel('Predicted Labels')\n",
        "plt.ylabel('Actual Labels')\n",
        "plt.show()"
      ],
      "metadata": {
        "colab": {
          "base_uri": "https://localhost:8080/",
          "height": 894
        },
        "id": "GztCRfCuE2OL",
        "outputId": "97121a1c-76de-4eb5-fb0f-1e78c14d11d0"
      },
      "execution_count": null,
      "outputs": [
        {
          "output_type": "stream",
          "name": "stderr",
          "text": [
            "/tmp/ipython-input-1869182062.py:12: DtypeWarning: Columns (3,4,5,6,7,8) have mixed types. Specify dtype option on import or set low_memory=False.\n",
            "  df_train = pd.read_csv(\"/content/sql_injectiondataset_final_updated.csv\")\n"
          ]
        },
        {
          "output_type": "stream",
          "name": "stdout",
          "text": [
            "Fitting 5 folds for each of 96 candidates, totalling 480 fits\n",
            "Best CV F1 Score: 1.0\n",
            "Best Parameters: {'clf__C': 1, 'clf__class_weight': None, 'clf__gamma': 'scale', 'clf__kernel': 'linear'}\n",
            "Test Accuracy: 0.5225\n",
            "Classification Report:\n",
            "               precision    recall  f1-score   support\n",
            "\n",
            "           0     0.5952    0.1404    0.2273       178\n",
            "           1     0.5127    0.9045    0.6545       178\n",
            "\n",
            "    accuracy                         0.5225       356\n",
            "   macro avg     0.5540    0.5225    0.4409       356\n",
            "weighted avg     0.5540    0.5225    0.4409       356\n",
            "\n",
            "Confusion Matrix:\n",
            " [[ 25 153]\n",
            " [ 17 161]]\n"
          ]
        },
        {
          "output_type": "display_data",
          "data": {
            "text/plain": [
              "<Figure size 800x600 with 2 Axes>"
            ],
            "image/png": "[encoded data removed]"
          },
          "metadata": {}
        }
      ]
    }
  ]
}